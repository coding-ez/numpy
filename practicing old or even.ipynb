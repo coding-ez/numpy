{
 "cells": [
  {
   "cell_type": "code",
   "execution_count": 1,
   "metadata": {
    "executionInfo": {
     "elapsed": 53,
     "status": "ok",
     "timestamp": 1713976019131,
     "user": {
      "displayName": "Himanshu Rule",
      "userId": "10683120252197474211"
     },
     "user_tz": -330
    },
    "id": "kT6EypcN4EKI",
    "tags": []
   },
   "outputs": [],
   "source": [
    "import numpy as np"
   ]
  },
  {
   "cell_type": "code",
   "execution_count": 2,
   "metadata": {
    "executionInfo": {
     "elapsed": 52,
     "status": "ok",
     "timestamp": 1713976019131,
     "user": {
      "displayName": "Himanshu Rule",
      "userId": "10683120252197474211"
     },
     "user_tz": -330
    },
    "id": "iZeW2CBE3RH2",
    "tags": []
   },
   "outputs": [],
   "source": [
    "input_data = np.array([\n",
    "    [0, 0, 0, 0, 0, 0, 0, 1],  # 1\n",
    "    [0, 0, 0, 0, 0, 0, 1, 0],  # 2\n",
    "    [0, 0, 0, 0, 0, 0, 1, 1],  # 3\n",
    "    [0, 0, 0, 0, 0, 1, 0, 0],  # 4\n",
    "    [0, 0, 0, 0, 0, 1, 0, 1],  # 5\n",
    "    [0, 0, 0, 0, 0, 1, 1, 0],  # 6\n",
    "    [0, 0, 0, 0, 0, 1, 1, 1],  # 7\n",
    "    [0, 0, 0, 0, 1, 0, 0, 0],  # 8\n",
    "    [0, 0, 0, 0, 1, 0, 0, 1],  # 9\n",
    "    [0, 0, 0, 0, 1, 0, 1, 0]   # 10\n",
    "])"
   ]
  },
  {
   "cell_type": "code",
   "execution_count": 3,
   "metadata": {
    "executionInfo": {
     "elapsed": 52,
     "status": "ok",
     "timestamp": 1713976019132,
     "user": {
      "displayName": "Himanshu Rule",
      "userId": "10683120252197474211"
     },
     "user_tz": -330
    },
    "id": "PDu8GLMb40x7",
    "tags": []
   },
   "outputs": [],
   "source": [
    "# even => 0\n",
    "# odd  => 1\n",
    "\n",
    "targets = [1,0,1,0,1,0,1,0,1,0]"
   ]
  },
  {
   "cell_type": "code",
   "execution_count": 4,
   "metadata": {
    "executionInfo": {
     "elapsed": 434,
     "status": "ok",
     "timestamp": 1713976736133,
     "user": {
      "displayName": "Himanshu Rule",
      "userId": "10683120252197474211"
     },
     "user_tz": -330
    },
    "id": "6zJU6q4u4Ftt",
    "tags": []
   },
   "outputs": [],
   "source": [
    "class Perceptron:\n",
    "    def __init__(self, lr=0.1):\n",
    "        self.lr = lr\n",
    "\n",
    "    def activation(self, Z):\n",
    "        return 1/(1+np.exp(-Z))\n",
    "\n",
    "    def predict(self, X):\n",
    "        preds = []\n",
    "        for i in range(len(X)):\n",
    "            Z = np.dot(X[i], self.W) + self.b\n",
    "            # preds.append(int(self.activation(Z)>0.5))\n",
    "            prob = self.activation(Z)\n",
    "\n",
    "            if prob >= 0.5:\n",
    "                preds.append(1)\n",
    "            else:\n",
    "                preds.append(0)\n",
    "\n",
    "\n",
    "        return preds\n",
    "\n",
    "    def train(self, X, y, epochs=100):\n",
    "        self.W = np.random.rand(len(X[0]))\n",
    "        self.b = np.random.rand()\n",
    "        for epoch in range(epochs):\n",
    "            for i in range(len(X)):\n",
    "                Z = np.dot(X[i],self.W) + self.b\n",
    "                pred = self.activation(Z)\n",
    "                error = y[i] - pred # actual - prediction\n",
    "\n",
    "                self.W += self.lr * X[i] * error\n",
    "                self.b += self.lr * error"
   ]
  },
  {
   "cell_type": "code",
   "execution_count": 8,
   "metadata": {
    "colab": {
     "base_uri": "https://localhost:8080/"
    },
    "executionInfo": {
     "elapsed": 11,
     "status": "ok",
     "timestamp": 1713976736619,
     "user": {
      "displayName": "Himanshu Rule",
      "userId": "10683120252197474211"
     },
     "user_tz": -330
    },
    "id": "ytn_3ybe8HWe",
    "outputId": "e95a927f-4eed-45a3-fe50-293059cf1ba2",
    "tags": []
   },
   "outputs": [
    {
     "data": {
      "text/plain": [
       "0.5540600657371415"
      ]
     },
     "execution_count": 8,
     "metadata": {},
     "output_type": "execute_result"
    }
   ],
   "source": [
    "np.random.rand()"
   ]
  },
  {
   "cell_type": "code",
   "execution_count": 9,
   "metadata": {
    "executionInfo": {
     "elapsed": 8,
     "status": "ok",
     "timestamp": 1713976736619,
     "user": {
      "displayName": "Himanshu Rule",
      "userId": "10683120252197474211"
     },
     "user_tz": -330
    },
    "id": "bOTiNLdi5SKN",
    "tags": []
   },
   "outputs": [],
   "source": [
    "p = Perceptron()\n",
    "p.train(input_data, targets,epochs=100)"
   ]
  },
  {
   "cell_type": "code",
   "execution_count": 10,
   "metadata": {
    "executionInfo": {
     "elapsed": 8,
     "status": "ok",
     "timestamp": 1713976736620,
     "user": {
      "displayName": "Himanshu Rule",
      "userId": "10683120252197474211"
     },
     "user_tz": -330
    },
    "id": "mPbyfNGLA3Iw",
    "tags": []
   },
   "outputs": [],
   "source": [
    "preds = p.predict(input_data)"
   ]
  },
  {
   "cell_type": "code",
   "execution_count": 12,
   "metadata": {
    "colab": {
     "base_uri": "https://localhost:8080/"
    },
    "executionInfo": {
     "elapsed": 498,
     "status": "ok",
     "timestamp": 1713976916954,
     "user": {
      "displayName": "Himanshu Rule",
      "userId": "10683120252197474211"
     },
     "user_tz": -330
    },
    "id": "7mPnMepnBo6v",
    "outputId": "a8fc2ced-720e-4ef7-ef58-2bfcd3e0bc3b",
    "tags": []
   },
   "outputs": [
    {
     "data": {
      "text/plain": [
       "True"
      ]
     },
     "execution_count": 12,
     "metadata": {},
     "output_type": "execute_result"
    }
   ],
   "source": [
    "preds == targets"
   ]
  },
  {
   "cell_type": "code",
   "execution_count": 8,
   "metadata": {
    "colab": {
     "base_uri": "https://localhost:8080/"
    },
    "executionInfo": {
     "elapsed": 37,
     "status": "ok",
     "timestamp": 1713976019133,
     "user": {
      "displayName": "Himanshu Rule",
      "userId": "10683120252197474211"
     },
     "user_tz": -330
    },
    "id": "91rFJjlmCjH1",
    "outputId": "825738f5-cd2e-487a-fd0a-3cd4495db863"
   },
   "outputs": [
    {
     "data": {
      "text/plain": [
       "[[0, 0, 0, 0, 1, 0, 1, 1],\n",
       " [0, 0, 0, 0, 1, 1, 0, 0],\n",
       " [0, 0, 0, 0, 1, 1, 0, 1],\n",
       " [0, 0, 0, 0, 1, 1, 1, 0],\n",
       " [0, 0, 0, 0, 1, 1, 1, 1],\n",
       " [0, 0, 0, 1, 0, 0, 0, 0],\n",
       " [0, 0, 0, 1, 0, 0, 0, 1],\n",
       " [0, 0, 0, 1, 0, 0, 1, 0],\n",
       " [0, 0, 0, 1, 0, 0, 1, 1],\n",
       " [0, 0, 0, 1, 0, 1, 0, 0]]"
      ]
     },
     "execution_count": 8,
     "metadata": {},
     "output_type": "execute_result"
    }
   ],
   "source": [
    "binary_numbers_11_to_20 = [\n",
    "    [0, 0, 0, 0, 1, 0, 1, 1],  # 11\n",
    "    [0, 0, 0, 0, 1, 1, 0, 0],  # 12\n",
    "    [0, 0, 0, 0, 1, 1, 0, 1],  # 13\n",
    "    [0, 0, 0, 0, 1, 1, 1, 0],  # 14\n",
    "    [0, 0, 0, 0, 1, 1, 1, 1],  # 15\n",
    "    [0, 0, 0, 1, 0, 0, 0, 0],  # 16\n",
    "    [0, 0, 0, 1, 0, 0, 0, 1],  # 17\n",
    "    [0, 0, 0, 1, 0, 0, 1, 0],  # 18\n",
    "    [0, 0, 0, 1, 0, 0, 1, 1],  # 19\n",
    "    [0, 0, 0, 1, 0, 1, 0, 0]   # 20\n",
    "]\n",
    "\n",
    "binary_numbers_11_to_20"
   ]
  },
  {
   "cell_type": "code",
   "execution_count": 9,
   "metadata": {
    "colab": {
     "base_uri": "https://localhost:8080/"
    },
    "executionInfo": {
     "elapsed": 33,
     "status": "ok",
     "timestamp": 1713976019133,
     "user": {
      "displayName": "Himanshu Rule",
      "userId": "10683120252197474211"
     },
     "user_tz": -330
    },
    "id": "WwWfVODVC4H2",
    "outputId": "7c8ffde8-2902-4bce-b67f-5816160ce5b6"
   },
   "outputs": [
    {
     "data": {
      "text/plain": [
       "[1, 0, 1, 0, 1, 0, 1, 0, 1, 0]"
      ]
     },
     "execution_count": 9,
     "metadata": {},
     "output_type": "execute_result"
    }
   ],
   "source": [
    "p.predict(binary_numbers_11_to_20)"
   ]
  },
  {
   "cell_type": "code",
   "execution_count": 10,
   "metadata": {
    "colab": {
     "base_uri": "https://localhost:8080/"
    },
    "executionInfo": {
     "elapsed": 29,
     "status": "ok",
     "timestamp": 1713976019133,
     "user": {
      "displayName": "Himanshu Rule",
      "userId": "10683120252197474211"
     },
     "user_tz": -330
    },
    "id": "gc9SvIyPDHSM",
    "outputId": "c967d751-d0c0-4d62-adfb-8080ef0686ea"
   },
   "outputs": [
    {
     "data": {
      "text/plain": [
       "array([ 0.23612004,  0.92718582,  0.77563179,  0.37744862, -0.33566359,\n",
       "       -0.1343561 , -0.25468498,  1.78526032])"
      ]
     },
     "execution_count": 10,
     "metadata": {},
     "output_type": "execute_result"
    }
   ],
   "source": [
    "p.W"
   ]
  },
  {
   "cell_type": "code",
   "execution_count": 11,
   "metadata": {
    "colab": {
     "base_uri": "https://localhost:8080/"
    },
    "executionInfo": {
     "elapsed": 27,
     "status": "ok",
     "timestamp": 1713976019134,
     "user": {
      "displayName": "Himanshu Rule",
      "userId": "10683120252197474211"
     },
     "user_tz": -330
    },
    "id": "LohUGgVyDIut",
    "outputId": "0b8818d9-af41-4b21-d4f7-f64907649cfe"
   },
   "outputs": [
    {
     "data": {
      "text/plain": [
       "-0.43624093068024994"
      ]
     },
     "execution_count": 11,
     "metadata": {},
     "output_type": "execute_result"
    }
   ],
   "source": [
    "p.b"
   ]
  },
  {
   "cell_type": "code",
   "execution_count": 11,
   "metadata": {
    "executionInfo": {
     "elapsed": 24,
     "status": "ok",
     "timestamp": 1713976019134,
     "user": {
      "displayName": "Himanshu Rule",
      "userId": "10683120252197474211"
     },
     "user_tz": -330
    },
    "id": "uEXU921FDJkU"
   },
   "outputs": [],
   "source": []
  }
 ],
 "metadata": {
  "colab": {
   "authorship_tag": "ABX9TyPMZv9oHugSp3tZdsCMqhCt",
   "provenance": []
  },
  "kernelspec": {
   "display_name": "Python 3 (ipykernel)",
   "language": "python",
   "name": "python3"
  },
  "language_info": {
   "codemirror_mode": {
    "name": "ipython",
    "version": 3
   },
   "file_extension": ".py",
   "mimetype": "text/x-python",
   "name": "python",
   "nbconvert_exporter": "python",
   "pygments_lexer": "ipython3",
   "version": "3.11.8"
  }
 },
 "nbformat": 4,
 "nbformat_minor": 4
}
